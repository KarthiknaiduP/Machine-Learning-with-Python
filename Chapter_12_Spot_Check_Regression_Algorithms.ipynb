{
  "nbformat": 4,
  "nbformat_minor": 0,
  "metadata": {
    "colab": {
      "provenance": []
    },
    "kernelspec": {
      "name": "python3",
      "display_name": "Python 3"
    },
    "language_info": {
      "name": "python"
    }
  },
  "cells": [
    {
      "cell_type": "markdown",
      "source": [
        "**Algorithms Overview**\n",
        "\n",
        "Starting with four linear machine learning algorithms:\n",
        "\n",
        "* Linear Regression.\n",
        "* Ridge Regression.\n",
        "* LASSO Linear Regression. 􏰀 Elastic Net Regression.\n",
        "\n",
        "\n",
        "Then looking at three nonlinear machine learning algorithms:\n",
        "* k-Nearest Neighbors.\n",
        "* Classification and Regression Trees.\n",
        "* Support Vector Machines."
      ],
      "metadata": {
        "id": "laCeanXiC905"
      }
    },
    {
      "cell_type": "markdown",
      "source": [
        "**1. Linear Regression**"
      ],
      "metadata": {
        "id": "JXbbiTmDDSJT"
      }
    },
    {
      "cell_type": "markdown",
      "source": [
        "\n",
        "Linear regression assumes that the input variables have a Gaussian distribution. It is also assumed that input variables are relevant to the output variable and that they are not highly correlated with each other (a problem called collinearity). You can construct a linear regression model using the LinearRegression class1."
      ],
      "metadata": {
        "id": "ayU-tz-4EutI"
      }
    },
    {
      "cell_type": "code",
      "source": [
        "from pandas import read_csv\n",
        "from sklearn.model_selection import KFold\n",
        "from sklearn.model_selection import cross_val_score\n",
        "from sklearn.linear_model import LinearRegression\n",
        "filename = 'housing.csv'\n",
        "dataframe = read_csv(filename, delim_whitespace=True)\n",
        "array = dataframe.values\n",
        "X = array[:,0:13]\n",
        "Y = array[:,13]\n",
        "kfold = KFold(n_splits=10,shuffle=True, random_state=7)\n",
        "model = LinearRegression()\n",
        "scoring = 'neg_mean_squared_error'\n",
        "results = cross_val_score(model, X, Y, cv=kfold, scoring=scoring)\n",
        "print(results.mean())\n"
      ],
      "metadata": {
        "colab": {
          "base_uri": "https://localhost:8080/"
        },
        "id": "m4UCqsYeHKhe",
        "outputId": "3f972f4e-3fc3-4fca-9399-f9c9675f3e20"
      },
      "execution_count": 4,
      "outputs": [
        {
          "output_type": "stream",
          "name": "stdout",
          "text": [
            "-23.556394852905335\n"
          ]
        }
      ]
    },
    {
      "cell_type": "markdown",
      "source": [
        "**2. Ridge Regression**"
      ],
      "metadata": {
        "id": "2F6pyn22HdRF"
      }
    },
    {
      "cell_type": "markdown",
      "source": [
        "Ridge regression is an extension of linear regression where the loss function is modified to minimize the complexity of the model measured as the sum squared value of the coefficient values (also called the L2-norm). You can construct a ridge regression model by using the Ridge class2 .\n"
      ],
      "metadata": {
        "id": "TPU9AKoHHiQs"
      }
    },
    {
      "cell_type": "code",
      "source": [
        "from sklearn.model_selection import cross_val_score\n",
        "from sklearn.linear_model import Ridge\n",
        "model = Ridge()\n",
        "scoring = 'neg_mean_squared_error'\n",
        "results = cross_val_score(model, X, Y, cv=kfold, scoring=scoring)\n",
        "print(results.mean())"
      ],
      "metadata": {
        "id": "8o6s16q_Qmkg",
        "colab": {
          "base_uri": "https://localhost:8080/"
        },
        "outputId": "3cfe4c98-d833-4d26-eaf8-cf286fc7b453"
      },
      "execution_count": 5,
      "outputs": [
        {
          "output_type": "stream",
          "name": "stdout",
          "text": [
            "-23.741579723179825\n"
          ]
        }
      ]
    },
    {
      "cell_type": "markdown",
      "source": [
        "**3. LASSO Regression**"
      ],
      "metadata": {
        "id": "Hg5tR6Vihd2t"
      }
    },
    {
      "cell_type": "markdown",
      "source": [
        "The Least Absolute Shrinkage and Selection Operator (or LASSO for short) is a modification of linear regression, like ridge regression, where the loss function is modified to minimize the complexity of the model measured as the sum absolute value of the coefficient values (also called the L1-norm). You can construct a LASSO model by using the Lasso class3."
      ],
      "metadata": {
        "id": "ZUrqFl8khiCx"
      }
    },
    {
      "cell_type": "code",
      "source": [
        "from sklearn.linear_model import Lasso\n",
        "model = Lasso()\n",
        "scoring = 'neg_mean_squared_error'\n",
        "results = cross_val_score(model, X, Y, cv=kfold, scoring=scoring)\n",
        "print(results.mean())"
      ],
      "metadata": {
        "colab": {
          "base_uri": "https://localhost:8080/"
        },
        "id": "XJspt5jHhsyE",
        "outputId": "a8608add-2482-4263-f5a6-520ddbb2db3a"
      },
      "execution_count": 6,
      "outputs": [
        {
          "output_type": "stream",
          "name": "stdout",
          "text": [
            "-28.32544328971371\n"
          ]
        }
      ]
    },
    {
      "cell_type": "markdown",
      "source": [
        "**4. ElasticNet Regression**"
      ],
      "metadata": {
        "id": "iB2RBzmDhzKw"
      }
    },
    {
      "cell_type": "markdown",
      "source": [
        "ElasticNet is a form of regularization regression that combines the properties of both Ridge Regression and LASSO regression. It seeks to minimize the complexity of the regression model (magnitude and number of regression coefficients) by penalizing the model using both the\n",
        "L2-norm (sum squared coefficient values) and the L1-norm (sum absolute coefficient values). You can construct an ElasticNet model using the ElasticNet class4."
      ],
      "metadata": {
        "id": "W8vNWqY0h3-Y"
      }
    },
    {
      "cell_type": "code",
      "source": [
        "from sklearn.linear_model import ElasticNet\n",
        "model = ElasticNet()\n",
        "scoring = 'neg_mean_squared_error'\n",
        "results = cross_val_score(model, X, Y, cv=kfold, scoring=scoring)\n",
        "print(results.mean())"
      ],
      "metadata": {
        "colab": {
          "base_uri": "https://localhost:8080/"
        },
        "id": "unhxFZ_HiiSI",
        "outputId": "5cbebd4a-8c56-4442-d274-0afbba712237"
      },
      "execution_count": 7,
      "outputs": [
        {
          "output_type": "stream",
          "name": "stdout",
          "text": [
            "-27.86708497708606\n"
          ]
        }
      ]
    },
    {
      "cell_type": "markdown",
      "source": [
        "**5. K-Nearest Neighbors**"
      ],
      "metadata": {
        "id": "bgxZev3Di_Rh"
      }
    },
    {
      "cell_type": "markdown",
      "source": [
        "The k-Nearest Neighbors algorithm (or KNN) locates the k most similar instances in the training dataset for a new data instance. From the k neighbors, a mean or median output variable is taken as the prediction. Of note is the distance metric used (the metric argument). The Minkowski distance is used by default, which is a generalization of both the Euclidean distance (used when all inputs have the same scale) and Manhattan distance (for when the scales of the input variables differ). You can construct a KNN model for regression using the KNeighborsRegressor class5."
      ],
      "metadata": {
        "id": "_w6rQ7ADjE84"
      }
    },
    {
      "cell_type": "code",
      "source": [
        "from sklearn.neighbors import KNeighborsRegressor\n",
        "model = KNeighborsRegressor()\n",
        "scoring = 'neg_mean_squared_error'\n",
        "results = cross_val_score(model, X, Y, cv=kfold, scoring=scoring)\n",
        "print(results.mean())"
      ],
      "metadata": {
        "colab": {
          "base_uri": "https://localhost:8080/"
        },
        "id": "VexUIjq5jGu2",
        "outputId": "431d8679-ccaa-464d-b42a-a2093ba7375e"
      },
      "execution_count": 8,
      "outputs": [
        {
          "output_type": "stream",
          "name": "stdout",
          "text": [
            "-38.95149868235294\n"
          ]
        }
      ]
    },
    {
      "cell_type": "markdown",
      "source": [
        "**6. Classification and Regression Trees**"
      ],
      "metadata": {
        "id": "dFqHmcbFjM-A"
      }
    },
    {
      "cell_type": "markdown",
      "source": [
        "Decision trees or the Classification and Regression Trees (CART as they are known) use the train- ing data to select the best points to split the data in order to minimize a cost metric. The default cost metric for regression decision trees is the mean squared error, specified in the criterion parameter. You can create a CART model for regression using the DecisionTreeRegressor class6 ."
      ],
      "metadata": {
        "id": "88wn7yTTjWwu"
      }
    },
    {
      "cell_type": "code",
      "source": [
        "from sklearn.tree import DecisionTreeRegressor\n",
        "kfold = KFold(n_splits=10,shuffle=True, random_state=7)\n",
        "model = DecisionTreeRegressor()\n",
        "scoring = 'neg_mean_squared_error'\n",
        "results = cross_val_score(model, X, Y, cv=kfold, scoring=scoring)\n",
        "print(results.mean())"
      ],
      "metadata": {
        "colab": {
          "base_uri": "https://localhost:8080/"
        },
        "id": "LhzzOospjXXj",
        "outputId": "1ca295b0-839a-4c44-f5ec-dea346b8f7a5"
      },
      "execution_count": 10,
      "outputs": [
        {
          "output_type": "stream",
          "name": "stdout",
          "text": [
            "-26.02127882352941\n"
          ]
        }
      ]
    },
    {
      "cell_type": "markdown",
      "source": [
        "**7. Support Vector Machines**"
      ],
      "metadata": {
        "id": "eUgS_MP7jn8v"
      }
    },
    {
      "cell_type": "markdown",
      "source": [
        "Support Vector Machines (SVM) were developed for binary classification. The technique has been extended for the prediction real-valued problems called Support Vector Regression (SVR). Like the classification example, SVR is built upon the LIBSVM library. You can create an SVM model for regression using the SVR class7."
      ],
      "metadata": {
        "id": "i4fP2nmxjszv"
      }
    },
    {
      "cell_type": "code",
      "source": [
        "from sklearn.svm import SVR\n",
        "model = SVR()\n",
        "scoring = 'neg_mean_squared_error'\n",
        "results = cross_val_score(model, X, Y, cv=kfold, scoring=scoring)\n",
        "print(results.mean())"
      ],
      "metadata": {
        "colab": {
          "base_uri": "https://localhost:8080/"
        },
        "id": "_DSADHTkjun6",
        "outputId": "6ba87887-1168-49b3-8bea-14669fbaee6c"
      },
      "execution_count": 11,
      "outputs": [
        {
          "output_type": "stream",
          "name": "stdout",
          "text": [
            "-67.7668350073894\n"
          ]
        }
      ]
    }
  ]
}
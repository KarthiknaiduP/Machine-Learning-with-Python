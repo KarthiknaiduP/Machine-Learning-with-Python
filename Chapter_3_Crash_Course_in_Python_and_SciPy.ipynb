{
  "nbformat": 4,
  "nbformat_minor": 0,
  "metadata": {
    "colab": {
      "provenance": []
    },
    "kernelspec": {
      "name": "python3",
      "display_name": "Python 3"
    },
    "language_info": {
      "name": "python"
    }
  },
  "cells": [
    {
      "cell_type": "markdown",
      "source": [
        "## Python"
      ],
      "metadata": {
        "id": "CBdFChymgm7k"
      }
    },
    {
      "cell_type": "markdown",
      "source": [
        "**Strings**"
      ],
      "metadata": {
        "id": "mDze0aX0gr2v"
      }
    },
    {
      "cell_type": "code",
      "source": [
        "data = 'Hello world'\n",
        "print(data)\n",
        "print(data[0])\n",
        "print(len(data))\n"
      ],
      "metadata": {
        "colab": {
          "base_uri": "https://localhost:8080/"
        },
        "id": "cHKjz2b0gEg-",
        "outputId": "9084f7ab-51b6-4463-a49e-c76e0429ca01"
      },
      "execution_count": 9,
      "outputs": [
        {
          "output_type": "stream",
          "name": "stdout",
          "text": [
            "Hello world\n",
            "H\n",
            "11\n"
          ]
        }
      ]
    },
    {
      "cell_type": "markdown",
      "source": [
        "Numbers"
      ],
      "metadata": {
        "id": "4vo-AEKNhjgC"
      }
    },
    {
      "cell_type": "code",
      "source": [
        "value = 122.62\n",
        "print(value)\n",
        "value = 1\n",
        "print(value)"
      ],
      "metadata": {
        "colab": {
          "base_uri": "https://localhost:8080/"
        },
        "id": "hB6htSnchKjY",
        "outputId": "61a1f8b1-dcae-4e0a-e964-56865460c94d"
      },
      "execution_count": 10,
      "outputs": [
        {
          "output_type": "stream",
          "name": "stdout",
          "text": [
            "122.62\n",
            "1\n"
          ]
        }
      ]
    },
    {
      "cell_type": "markdown",
      "source": [
        "boolean"
      ],
      "metadata": {
        "id": "mKaS6M9ohmcF"
      }
    },
    {
      "cell_type": "code",
      "source": [
        "a = True\n",
        "b = False\n",
        "print(a, b)"
      ],
      "metadata": {
        "colab": {
          "base_uri": "https://localhost:8080/"
        },
        "id": "RoJ_cNgShWC4",
        "outputId": "16da1485-42a3-4503-887a-634c5f6257cb"
      },
      "execution_count": 11,
      "outputs": [
        {
          "output_type": "stream",
          "name": "stdout",
          "text": [
            "True False\n"
          ]
        }
      ]
    },
    {
      "cell_type": "markdown",
      "source": [
        "** Flow control**\n",
        "\n",
        "If-Then_else Conditional"
      ],
      "metadata": {
        "id": "hoDKVlA9hsxI"
      }
    },
    {
      "cell_type": "code",
      "source": [
        "value = 300\n",
        "if value == 99:\n",
        "  print('this is fast')\n",
        "elif value > 200:\n",
        "  print('this is too fast')\n",
        "else:\n",
        "  print('this is safe')"
      ],
      "metadata": {
        "colab": {
          "base_uri": "https://localhost:8080/"
        },
        "id": "E18nbPoUh21W",
        "outputId": "11d66303-6a4d-4bbc-97cd-1ef3f1f7b224"
      },
      "execution_count": 12,
      "outputs": [
        {
          "output_type": "stream",
          "name": "stdout",
          "text": [
            "this is too fast\n"
          ]
        }
      ]
    },
    {
      "cell_type": "markdown",
      "source": [
        "for loop"
      ],
      "metadata": {
        "id": "7e_x74CwK9uD"
      }
    },
    {
      "cell_type": "code",
      "source": [
        "for i in range(10):\n",
        "   print(i)"
      ],
      "metadata": {
        "colab": {
          "base_uri": "https://localhost:8080/"
        },
        "id": "H1_8ncYEK-k6",
        "outputId": "8330fd27-b1c9-48b6-8ec6-22fcfe1bcad0"
      },
      "execution_count": 13,
      "outputs": [
        {
          "output_type": "stream",
          "name": "stdout",
          "text": [
            "0\n",
            "1\n",
            "2\n",
            "3\n",
            "4\n",
            "5\n",
            "6\n",
            "7\n",
            "8\n",
            "9\n"
          ]
        }
      ]
    },
    {
      "cell_type": "markdown",
      "source": [
        "while loop"
      ],
      "metadata": {
        "id": "D01AoxLOLQiC"
      }
    },
    {
      "cell_type": "code",
      "source": [
        "i = 0\n",
        "while i < 10:\n",
        "  print(i)\n",
        "  i += 1"
      ],
      "metadata": {
        "colab": {
          "base_uri": "https://localhost:8080/"
        },
        "id": "_wlm7K_gLRTz",
        "outputId": "ca41b51b-241f-4c99-855f-7703f71f3737"
      },
      "execution_count": 14,
      "outputs": [
        {
          "output_type": "stream",
          "name": "stdout",
          "text": [
            "0\n",
            "1\n",
            "2\n",
            "3\n",
            "4\n",
            "5\n",
            "6\n",
            "7\n",
            "8\n",
            "9\n"
          ]
        }
      ]
    },
    {
      "cell_type": "markdown",
      "source": [
        "**DATA STRUCTURES**"
      ],
      "metadata": {
        "id": "whaurqNhLtO-"
      }
    },
    {
      "cell_type": "markdown",
      "source": [
        "Tuple\n"
      ],
      "metadata": {
        "id": "HJbzDGrvLyQq"
      }
    },
    {
      "cell_type": "code",
      "source": [
        "a = (1,2,3)\n",
        "print(a)"
      ],
      "metadata": {
        "colab": {
          "base_uri": "https://localhost:8080/"
        },
        "id": "Kt1DWtqALw-A",
        "outputId": "1c226a38-e6f2-41c0-c761-9d39387cd4ab"
      },
      "execution_count": 15,
      "outputs": [
        {
          "output_type": "stream",
          "name": "stdout",
          "text": [
            "(1, 2, 3)\n"
          ]
        }
      ]
    },
    {
      "cell_type": "markdown",
      "source": [
        "List\n",
        "\n",
        "append means adding that list at last\n",
        "\n",
        "len for counting total number"
      ],
      "metadata": {
        "id": "MUHBsd2DL_4l"
      }
    },
    {
      "cell_type": "code",
      "source": [
        "mylist = [1,2,3,4,5]\n",
        "print(\"Zeroth Value: %d\" % mylist[0])\n",
        "mylist.append(4)\n",
        "print(\"List Length: %d\" % len(mylist))\n",
        "for value in mylist:\n",
        "   print(value)"
      ],
      "metadata": {
        "colab": {
          "base_uri": "https://localhost:8080/"
        },
        "id": "mf23KFWBMAxg",
        "outputId": "9f137a66-e8af-45d3-ea54-8953e18db57f"
      },
      "execution_count": 22,
      "outputs": [
        {
          "output_type": "stream",
          "name": "stdout",
          "text": [
            "Zeroth Value: 1\n",
            "List Length: 6\n",
            "1\n",
            "2\n",
            "3\n",
            "4\n",
            "5\n",
            "4\n"
          ]
        }
      ]
    },
    {
      "cell_type": "markdown",
      "source": [
        "Dictionary\n"
      ],
      "metadata": {
        "id": "s-SWvDhtNNn-"
      }
    },
    {
      "cell_type": "code",
      "source": [
        "mydict = {'a':1, 'b':2, 'c':3}\n",
        "print(\"A value: %d\" % mydict['a'])\n",
        "mydict['a'] = 10\n",
        "print(\"A value: %d\" % mydict['a'])\n",
        "print(\"Keys: %s\" % mydict.keys())\n",
        "print(\"values: %s\" % mydict.values())\n",
        "for key, value in mydict.items():\n",
        "    print(f\"Key: {key}, Value: {value}\")\n",
        "for value in mydict.values():\n",
        "    print(value)\n",
        "for key in mydict.keys():\n",
        "    print(key)"
      ],
      "metadata": {
        "colab": {
          "base_uri": "https://localhost:8080/"
        },
        "id": "AIxysJ0INRO8",
        "outputId": "c868d9f1-26dd-49cd-e3b0-12fae5ef6182"
      },
      "execution_count": 34,
      "outputs": [
        {
          "output_type": "stream",
          "name": "stdout",
          "text": [
            "A value: 1\n",
            "A value: 10\n",
            "Keys: dict_keys(['a', 'b', 'c'])\n",
            "values: dict_values([10, 2, 3])\n",
            "Key: a, Value: 10\n",
            "Key: b, Value: 2\n",
            "Key: c, Value: 3\n",
            "10\n",
            "2\n",
            "3\n",
            "a\n",
            "b\n",
            "c\n"
          ]
        }
      ]
    },
    {
      "cell_type": "markdown",
      "source": [
        "Functions"
      ],
      "metadata": {
        "id": "--yh4BzWQnXF"
      }
    },
    {
      "cell_type": "code",
      "source": [
        "def mysum(x,y):\n",
        "  return x+y\n",
        "print(mysum(1,2))"
      ],
      "metadata": {
        "colab": {
          "base_uri": "https://localhost:8080/"
        },
        "id": "uhWJ3vcIQo9n",
        "outputId": "07cebe7d-9374-439a-b18d-8c0f5e5ae865"
      },
      "execution_count": 35,
      "outputs": [
        {
          "output_type": "stream",
          "name": "stdout",
          "text": [
            "3\n"
          ]
        }
      ]
    },
    {
      "cell_type": "markdown",
      "source": [
        "# Numpy"
      ],
      "metadata": {
        "id": "QjezMfZBSg3t"
      }
    },
    {
      "cell_type": "markdown",
      "source": [
        "Create Array"
      ],
      "metadata": {
        "id": "T8DDu8faSinM"
      }
    },
    {
      "cell_type": "code",
      "source": [
        "import numpy\n",
        "mylist = [1,2,3]\n",
        "myarray = numpy.array(mylist)\n",
        "print(myarray)\n",
        "print(myarray.shape)\n",
        "mylist = [[4,5,6],[7,8,9]]\n",
        "myarray = numpy.array(mylist)\n",
        "print(myarray)\n",
        "print(myarray.shape)\n",
        "print(\"first row: %s\" % myarray[0])\n",
        "print(\"Last row: %s\" % myarray[-1])\n",
        "print(\"Specific row and column: %s\" % myarray[0,1])\n",
        "print(\"whole row: %s\" % myarray[:,2])\n"
      ],
      "metadata": {
        "colab": {
          "base_uri": "https://localhost:8080/"
        },
        "id": "WVfkG5LTSmRH",
        "outputId": "79e73033-cf30-4b41-d68b-de15ba75930a"
      },
      "execution_count": 42,
      "outputs": [
        {
          "output_type": "stream",
          "name": "stdout",
          "text": [
            "[1 2 3]\n",
            "(3,)\n",
            "[[4 5 6]\n",
            " [7 8 9]]\n",
            "(2, 3)\n",
            "first row: [4 5 6]\n",
            "Last row: [7 8 9]\n",
            "Specific row and column: 5\n",
            "whole row: [6 9]\n"
          ]
        }
      ]
    },
    {
      "cell_type": "markdown",
      "source": [
        "Arithmatic"
      ],
      "metadata": {
        "id": "KZVW9A8yUVn8"
      }
    },
    {
      "cell_type": "code",
      "source": [
        "import numpy\n",
        "myarray1 = numpy.array([1,2,3])\n",
        "myarray2 = numpy.array([4,5,6])\n",
        "print(\"Addition: %s\" % numpy.add(myarray1,myarray2))\n",
        "print(\"Subtraction: %s\" % numpy.subtract(myarray1,myarray2))\n",
        "print(\"Multiplication: %s\" % numpy.multiply(myarray1,myarray2))"
      ],
      "metadata": {
        "colab": {
          "base_uri": "https://localhost:8080/"
        },
        "id": "8A5CCBRaUXOm",
        "outputId": "3bb971b9-df71-48fb-ae44-fbec4ad53f2a"
      },
      "execution_count": 44,
      "outputs": [
        {
          "output_type": "stream",
          "name": "stdout",
          "text": [
            "Addition: [5 7 9]\n",
            "Subtraction: [-3 -3 -3]\n",
            "Multiplication: [ 4 10 18]\n"
          ]
        }
      ]
    },
    {
      "cell_type": "markdown",
      "source": [
        "# Matplotlib"
      ],
      "metadata": {
        "id": "UK0wz0rGU9hg"
      }
    },
    {
      "cell_type": "markdown",
      "source": [
        "Line Plot"
      ],
      "metadata": {
        "id": "qslyfi95VGdw"
      }
    },
    {
      "cell_type": "code",
      "source": [
        "import matplotlib.pyplot as plt\n",
        "import numpy as np\n",
        "\n",
        "myarray = np.array([1,2,3])\n",
        "plt.plot(myarray)\n",
        "plt.xlabel('some x axis')\n",
        "plt.ylabel('some y axis')\n",
        "plt.show()"
      ],
      "metadata": {
        "colab": {
          "base_uri": "https://localhost:8080/",
          "height": 449
        },
        "id": "f_bQaWa6VFap",
        "outputId": "a309159a-768a-4e16-955a-339a7127e9b0"
      },
      "execution_count": 48,
      "outputs": [
        {
          "output_type": "display_data",
          "data": {
            "text/plain": [
              "<Figure size 640x480 with 1 Axes>"
            ],
            "image/png": "[encoded data removed]"
          },
          "metadata": {}
        }
      ]
    },
    {
      "cell_type": "markdown",
      "source": [
        "Scatter Plot"
      ],
      "metadata": {
        "id": "Rvv9I-NIV4JS"
      }
    },
    {
      "cell_type": "code",
      "source": [
        "import numpy as np\n",
        "import matplotlib.pyplot as plt\n",
        "\n",
        "# Generate 100 random points\n",
        "x = np.random.rand(100) * 100  # Random numbers between 0 and 100\n",
        "y = np.random.rand(100) * 100  # Random numbers between 0 and 100\n",
        "\n",
        "# Create a scatter plot\n",
        "plt.scatter(x, y, label='Random Points')\n",
        "\n",
        "# Draw a line (example: y = x)\n",
        "plt.plot([0, 100], [0, 100], color='red', label='y = x')\n",
        "\n",
        "# Add labels and title\n",
        "plt.xlabel('X-axis')\n",
        "plt.ylabel('Y-axis')\n",
        "plt.title('Scatter Plot of Random Numbers with Line')\n",
        "plt.legend(loc='upper left')\n",
        "\n",
        "# Show the plot\n",
        "plt.show()"
      ],
      "metadata": {
        "colab": {
          "base_uri": "https://localhost:8080/",
          "height": 472
        },
        "id": "TsLcCF2qV5pP",
        "outputId": "614605e3-8fd9-41bb-f4ac-c16b44977b50"
      },
      "execution_count": 53,
      "outputs": [
        {
          "output_type": "display_data",
          "data": {
            "text/plain": [
              "<Figure size 640x480 with 1 Axes>"
            ],
            "image/png": "[encoded data removed]"
          },
          "metadata": {}
        }
      ]
    },
    {
      "cell_type": "markdown",
      "source": [
        "# Pandas"
      ],
      "metadata": {
        "id": "NDZ8IXHgXmKv"
      }
    },
    {
      "cell_type": "markdown",
      "source": [
        "series"
      ],
      "metadata": {
        "id": "IzqeNHrIYoFC"
      }
    },
    {
      "cell_type": "code",
      "source": [
        "import numpy as np\n",
        "import pandas as pd\n",
        "myarray = numpy.array([1,2,3])\n",
        "myseries = pd.Series(myarray)\n",
        "print(myseries)"
      ],
      "metadata": {
        "colab": {
          "base_uri": "https://localhost:8080/"
        },
        "id": "GqdRqZgVYo2g",
        "outputId": "32725629-bbd3-477d-ddab-204c9a9c1b26"
      },
      "execution_count": 54,
      "outputs": [
        {
          "output_type": "stream",
          "name": "stdout",
          "text": [
            "0    1\n",
            "1    2\n",
            "2    3\n",
            "dtype: int64\n"
          ]
        }
      ]
    },
    {
      "cell_type": "markdown",
      "source": [
        "Data Frame"
      ],
      "metadata": {
        "id": "tcsLwPtWZG8j"
      }
    },
    {
      "cell_type": "code",
      "source": [
        "import numpy\n",
        "import pandas\n",
        "myarray = numpy.array([[1, 2, 3], [4, 5, 6]])\n",
        "rownames = ['a', 'b']\n",
        "colnames = ['one', 'two', 'three']\n",
        "mydataframe = pandas.DataFrame(myarray, index=rownames, columns=colnames)\n",
        "print(mydataframe)\n"
      ],
      "metadata": {
        "colab": {
          "base_uri": "https://localhost:8080/"
        },
        "id": "C4LJlDSzZKzL",
        "outputId": "5cd8eeb9-3a7f-4534-bd51-21e3b08dd9ea"
      },
      "execution_count": 56,
      "outputs": [
        {
          "output_type": "stream",
          "name": "stdout",
          "text": [
            "   one  two  three\n",
            "a    1    2      3\n",
            "b    4    5      6\n"
          ]
        }
      ]
    }
  ]
}
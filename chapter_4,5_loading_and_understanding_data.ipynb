{
  "nbformat": 4,
  "nbformat_minor": 0,
  "metadata": {
    "colab": {
      "provenance": []
    },
    "kernelspec": {
      "name": "python3",
      "display_name": "Python 3"
    },
    "language_info": {
      "name": "python"
    }
  },
  "cells": [
    {
      "cell_type": "markdown",
      "source": [
        "for loading a csv file there are many number of techiniques or methids like loading a csv file using\n",
        "\n",
        "1.   Standard python library\n",
        "2.   Numpy\n",
        "3.   Pandas\n",
        "\n",
        "CSV - Comma-Seperated Values files\n",
        "\n",
        "\n",
        "\n"
      ],
      "metadata": {
        "id": "U3SlGTZidDya"
      }
    },
    {
      "cell_type": "markdown",
      "source": [
        "loading files using pandas"
      ],
      "metadata": {
        "id": "x3ITVAJ6eYON"
      }
    },
    {
      "cell_type": "code",
      "execution_count": 20,
      "metadata": {
        "colab": {
          "base_uri": "https://localhost:8080/"
        },
        "id": "bsBREfNcc49J",
        "outputId": "f538f8e8-b2f1-44b8-d424-9ce130513eb9"
      },
      "outputs": [
        {
          "output_type": "stream",
          "name": "stdout",
          "text": [
            "(768, 9)\n",
            "   Pregnancies  Glucose  BloodPressure  SkinThickness  Insulin   BMI  \\\n",
            "0            6      148             72             35        0  33.6   \n",
            "1            1       85             66             29        0  26.6   \n",
            "2            8      183             64              0        0  23.3   \n",
            "3            1       89             66             23       94  28.1   \n",
            "4            0      137             40             35      168  43.1   \n",
            "5            5      116             74              0        0  25.6   \n",
            "6            3       78             50             32       88  31.0   \n",
            "7           10      115              0              0        0  35.3   \n",
            "8            2      197             70             45      543  30.5   \n",
            "9            8      125             96              0        0   0.0   \n",
            "\n",
            "   DiabetesPedigreeFunction  Age  Outcome  \n",
            "0                     0.627   50        1  \n",
            "1                     0.351   31        0  \n",
            "2                     0.672   32        1  \n",
            "3                     0.167   21        0  \n",
            "4                     2.288   33        1  \n",
            "5                     0.201   30        0  \n",
            "6                     0.248   26        1  \n",
            "7                     0.134   29        0  \n",
            "8                     0.158   53        1  \n",
            "9                     0.232   54        1  \n"
          ]
        }
      ],
      "source": [
        "from pandas import read_csv\n",
        "df = '/content/diabetes 2.csv'\n",
        "#names = ['preg', 'plas', 'pres', 'skin', 'test', 'mass', 'pedi', 'age', 'class']\n",
        "data = read_csv(df)\n",
        "print(data.shape)\n",
        "print(data.head(10))"
      ]
    },
    {
      "cell_type": "markdown",
      "source": [
        "now we have loaded using pandas which is best approach, now for understanding the data there are 7 types\n",
        "\n",
        "1. take a peak at raw data"
      ],
      "metadata": {
        "id": "tpmj5HkKhwVF"
      }
    },
    {
      "cell_type": "code",
      "source": [
        "peek = data.head()\n",
        "print(peek)"
      ],
      "metadata": {
        "colab": {
          "base_uri": "https://localhost:8080/"
        },
        "id": "taQocENth-Ne",
        "outputId": "a1602aa4-20cd-4dc1-9ee6-7340612807dc"
      },
      "execution_count": 21,
      "outputs": [
        {
          "output_type": "stream",
          "name": "stdout",
          "text": [
            "   Pregnancies  Glucose  BloodPressure  SkinThickness  Insulin   BMI  \\\n",
            "0            6      148             72             35        0  33.6   \n",
            "1            1       85             66             29        0  26.6   \n",
            "2            8      183             64              0        0  23.3   \n",
            "3            1       89             66             23       94  28.1   \n",
            "4            0      137             40             35      168  43.1   \n",
            "\n",
            "   DiabetesPedigreeFunction  Age  Outcome  \n",
            "0                     0.627   50        1  \n",
            "1                     0.351   31        0  \n",
            "2                     0.672   32        1  \n",
            "3                     0.167   21        0  \n",
            "4                     2.288   33        1  \n"
          ]
        }
      ]
    },
    {
      "cell_type": "markdown",
      "source": [
        "2. dimension of your data"
      ],
      "metadata": {
        "id": "hBKhYlrvi9jJ"
      }
    },
    {
      "cell_type": "code",
      "source": [
        "shape = data.shape\n",
        "print(shape)"
      ],
      "metadata": {
        "colab": {
          "base_uri": "https://localhost:8080/"
        },
        "id": "44CPu6W7jCl0",
        "outputId": "8858a87d-eb06-4533-d8ab-37210faa36aa"
      },
      "execution_count": 22,
      "outputs": [
        {
          "output_type": "stream",
          "name": "stdout",
          "text": [
            "(768, 9)\n"
          ]
        }
      ]
    },
    {
      "cell_type": "markdown",
      "source": [
        "3. data tupe for each attribute\n",
        "\n",
        "The type of each attribute is important.\n",
        " Strings may need to be converted to floating point values or integers to represent categorical or ordinal values.\n",
        " You can get an idea of the types of attributes by peeking at the raw data, as above.\n",
        " You can also list the data types used by the DataFrame to characterize each attribute using the dtypes property."
      ],
      "metadata": {
        "id": "hHTtFrRplsYT"
      }
    },
    {
      "cell_type": "code",
      "source": [
        "types = data.dtypes\n",
        "print(types)"
      ],
      "metadata": {
        "colab": {
          "base_uri": "https://localhost:8080/"
        },
        "id": "LeaG1Xwyl4hc",
        "outputId": "ec8a367f-907d-4163-b4cf-d91f7f85c20e"
      },
      "execution_count": 24,
      "outputs": [
        {
          "output_type": "stream",
          "name": "stdout",
          "text": [
            "Pregnancies                   int64\n",
            "Glucose                       int64\n",
            "BloodPressure                 int64\n",
            "SkinThickness                 int64\n",
            "Insulin                       int64\n",
            "BMI                         float64\n",
            "DiabetesPedigreeFunction    float64\n",
            "Age                           int64\n",
            "Outcome                       int64\n",
            "dtype: object\n"
          ]
        }
      ]
    },
    {
      "cell_type": "markdown",
      "source": [
        "4. discriptive analysis (8)\n",
        "\n",
        "* count\n",
        "* mean\n",
        "* median - 50 percentile\n",
        "* Standard deviation\n",
        "* Minimum value\n",
        "* 25 percentile\n",
        "* 75 percentile\n",
        "* Maximum value\n"
      ],
      "metadata": {
        "id": "484ChSpmmIbN"
      }
    },
    {
      "cell_type": "code",
      "source": [
        "from pandas import set_option\n",
        "set_option('display.width', 300)\n",
        "description = data.describe()\n",
        "print(description)"
      ],
      "metadata": {
        "colab": {
          "base_uri": "https://localhost:8080/"
        },
        "id": "n7qmtgDMmKi6",
        "outputId": "026fe096-cf8a-4119-c45c-147ccffa3049"
      },
      "execution_count": 33,
      "outputs": [
        {
          "output_type": "stream",
          "name": "stdout",
          "text": [
            "       Pregnancies     Glucose  BloodPressure  SkinThickness     Insulin         BMI  DiabetesPedigreeFunction         Age     Outcome\n",
            "count   768.000000  768.000000     768.000000     768.000000  768.000000  768.000000                768.000000  768.000000  768.000000\n",
            "mean      3.845052  120.894531      69.105469      20.536458   79.799479   31.992578                  0.471876   33.240885    0.348958\n",
            "std       3.369578   31.972618      19.355807      15.952218  115.244002    7.884160                  0.331329   11.760232    0.476951\n",
            "min       0.000000    0.000000       0.000000       0.000000    0.000000    0.000000                  0.078000   21.000000    0.000000\n",
            "25%       1.000000   99.000000      62.000000       0.000000    0.000000   27.300000                  0.243750   24.000000    0.000000\n",
            "50%       3.000000  117.000000      72.000000      23.000000   30.500000   32.000000                  0.372500   29.000000    0.000000\n",
            "75%       6.000000  140.250000      80.000000      32.000000  127.250000   36.600000                  0.626250   41.000000    1.000000\n",
            "max      17.000000  199.000000     122.000000      99.000000  846.000000   67.100000                  2.420000   81.000000    1.000000\n"
          ]
        }
      ]
    },
    {
      "cell_type": "markdown",
      "source": [
        "5. Class Distribution\n",
        "\n",
        "for classifictaion problems we can check the distribution of classes in our dataset"
      ],
      "metadata": {
        "id": "t6_jL6s3nqZJ"
      }
    },
    {
      "cell_type": "code",
      "source": [
        "class_counts = data.groupby('Outcome').size()\n",
        "print(class_counts)"
      ],
      "metadata": {
        "colab": {
          "base_uri": "https://localhost:8080/"
        },
        "id": "s5xdmYJGntN2",
        "outputId": "3d465684-91eb-4ce9-d436-d373a607e6ef"
      },
      "execution_count": 28,
      "outputs": [
        {
          "output_type": "stream",
          "name": "stdout",
          "text": [
            "Outcome\n",
            "0    500\n",
            "1    268\n",
            "dtype: int64\n"
          ]
        }
      ]
    },
    {
      "cell_type": "markdown",
      "source": [
        "6. Correlations Between Attributes\n",
        "\n"
      ],
      "metadata": {
        "id": "OeTkQCyIokU_"
      }
    },
    {
      "cell_type": "code",
      "source": [
        "set_option('display.width', 300)\n",
        "correlations = data.corr(method='pearson')\n",
        "print(correlations)"
      ],
      "metadata": {
        "colab": {
          "base_uri": "https://localhost:8080/"
        },
        "id": "gFTUeHT3qSjP",
        "outputId": "2fa5ca88-b210-42da-ccf7-ce0fffab9f52"
      },
      "execution_count": 32,
      "outputs": [
        {
          "output_type": "stream",
          "name": "stdout",
          "text": [
            "                          Pregnancies   Glucose  BloodPressure  SkinThickness   Insulin       BMI  DiabetesPedigreeFunction       Age   Outcome\n",
            "Pregnancies                  1.000000  0.129459       0.141282      -0.081672 -0.073535  0.017683                 -0.033523  0.544341  0.221898\n",
            "Glucose                      0.129459  1.000000       0.152590       0.057328  0.331357  0.221071                  0.137337  0.263514  0.466581\n",
            "BloodPressure                0.141282  0.152590       1.000000       0.207371  0.088933  0.281805                  0.041265  0.239528  0.065068\n",
            "SkinThickness               -0.081672  0.057328       0.207371       1.000000  0.436783  0.392573                  0.183928 -0.113970  0.074752\n",
            "Insulin                     -0.073535  0.331357       0.088933       0.436783  1.000000  0.197859                  0.185071 -0.042163  0.130548\n",
            "BMI                          0.017683  0.221071       0.281805       0.392573  0.197859  1.000000                  0.140647  0.036242  0.292695\n",
            "DiabetesPedigreeFunction    -0.033523  0.137337       0.041265       0.183928  0.185071  0.140647                  1.000000  0.033561  0.173844\n",
            "Age                          0.544341  0.263514       0.239528      -0.113970 -0.042163  0.036242                  0.033561  1.000000  0.238356\n",
            "Outcome                      0.221898  0.466581       0.065068       0.074752  0.130548  0.292695                  0.173844  0.238356  1.000000\n"
          ]
        }
      ]
    },
    {
      "cell_type": "markdown",
      "source": [
        "7. Skew of Univarent Distribution\n",
        "\n",
        "\n",
        "Skew refers to a distribution that is assumed Gaussian (normal or bell curve) that is shifted or squashed in one direction or another. Many machine learning algorithms assume a Gaussian distribution. Knowing that an attribute has a skew may allow you to perform data preparation to correct the skew and later improve the accuracy of your models. You can calculate the skew of each attribute using the skew() function on the Pandas DataFrame."
      ],
      "metadata": {
        "id": "CvCLgz3Vqtxz"
      }
    },
    {
      "cell_type": "code",
      "source": [
        "skew = data.skew()\n",
        "print(skew)"
      ],
      "metadata": {
        "colab": {
          "base_uri": "https://localhost:8080/"
        },
        "id": "s5VKQc5QrCxx",
        "outputId": "1624ebba-9a60-4638-b843-dd634774898d"
      },
      "execution_count": 35,
      "outputs": [
        {
          "output_type": "stream",
          "name": "stdout",
          "text": [
            "Pregnancies                 0.901674\n",
            "Glucose                     0.173754\n",
            "BloodPressure              -1.843608\n",
            "SkinThickness               0.109372\n",
            "Insulin                     2.272251\n",
            "BMI                        -0.428982\n",
            "DiabetesPedigreeFunction    1.919911\n",
            "Age                         1.129597\n",
            "Outcome                     0.635017\n",
            "dtype: float64\n"
          ]
        }
      ]
    }
  ]
}
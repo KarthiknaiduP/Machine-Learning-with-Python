{
  "nbformat": 4,
  "nbformat_minor": 0,
  "metadata": {
    "colab": {
      "provenance": []
    },
    "kernelspec": {
      "name": "python3",
      "display_name": "Python 3"
    },
    "language_info": {
      "name": "python"
    }
  },
  "cells": [
    {
      "cell_type": "markdown",
      "source": [
        "# Feature Selection"
      ],
      "metadata": {
        "id": "E5UUHe01x66h"
      }
    },
    {
      "cell_type": "markdown",
      "source": [
        "The data features that you use to train your machine learning models have a huge influence on the performance you can achieve\n",
        "\n",
        "\n",
        "1. Univariate Selection.\n",
        "2. Recursive Feature Elimination.\n",
        "3. Principle Component Analysis.\n",
        "4. Feature Importance."
      ],
      "metadata": {
        "id": "8UM6hRXbx9-6"
      }
    },
    {
      "cell_type": "markdown",
      "source": [
        "Feature selection is a process where you automatically select those features in your data that contribute most to the prediction variable or output in which you are interested.\n",
        "\n",
        "Having irrelevant features in your data can decrease the accuracy of many models, especially linear algorithms like linear and logistic regression.\n",
        "\n",
        "Three benefits of performing feature selection before modeling your data are:\n",
        "1. **Reduces Overfitting**: Less redundant data means less opportunity to make decisions based on noise.\n",
        "2. **Improves Accuracy**: Less misleading data means modeling accuracy improves.\n",
        "3. **Reduces Training Time**: Less data means that algorithms train faster."
      ],
      "metadata": {
        "id": "hZueN5U3yLNa"
      }
    },
    {
      "cell_type": "markdown",
      "source": [
        "**1. Univariate Selection**"
      ],
      "metadata": {
        "id": "Sv3ApSE9yf-6"
      }
    },
    {
      "cell_type": "markdown",
      "source": [
        "Statistical tests can be used to select those features that have the strongest relationship with the output variable.\n",
        "\n",
        "\n",
        "The scikit-learn library provides the SelectKBest class2 that can be used with a suite of different statistical tests to select a specific number of features.\n",
        "\n",
        "The example below uses the chi-squared (chi2) statistical test for non-negative features to select 4 of the best features"
      ],
      "metadata": {
        "id": "K-qTBe9gEgBe"
      }
    },
    {
      "cell_type": "code",
      "source": [
        "from pandas import read_csv\n",
        "from numpy import set_printoptions\n",
        "from sklearn.feature_selection import SelectKBest\n",
        "from sklearn.feature_selection import chi2\n",
        "\n",
        "filename = '/content/diabetes 2.csv'\n",
        "dataframe = read_csv(filename)\n",
        "array = dataframe.values\n",
        "X = array[:,0:8]\n",
        "Y = array[:,8]\n",
        "# feature extraction\n",
        "test = SelectKBest(score_func=chi2, k=4)\n",
        "fit = test.fit(X, Y)\n",
        "# summarize scores\n",
        "set_printoptions(precision=3)\n",
        "print(fit.scores_)\n",
        "features = fit.transform(X)\n",
        "# summarize selected features\n",
        "print(features[0:5,:])\n"
      ],
      "metadata": {
        "id": "PtcBH4HnpqkB",
        "colab": {
          "base_uri": "https://localhost:8080/"
        },
        "outputId": "3572bcbd-2856-4dcd-ad27-a440f118bc61"
      },
      "execution_count": 1,
      "outputs": [
        {
          "output_type": "stream",
          "name": "stdout",
          "text": [
            "[ 111.52  1411.887   17.605   53.108 2175.565  127.669    5.393  181.304]\n",
            "[[148.    0.   33.6  50. ]\n",
            " [ 85.    0.   26.6  31. ]\n",
            " [183.    0.   23.3  32. ]\n",
            " [ 89.   94.   28.1  21. ]\n",
            " [137.  168.   43.1  33. ]]\n"
          ]
        }
      ]
    },
    {
      "cell_type": "markdown",
      "source": [
        "**2. Recursive Feature Elimination**"
      ],
      "metadata": {
        "id": "UEErvpR-4JfB"
      }
    },
    {
      "cell_type": "markdown",
      "source": [
        "The Recursive Feature Elimination (or RFE) works by recursively removing attributes and building a model on those attributes that remain.\n",
        "\n",
        "It uses the model accuracy to identify which attributes (and combination of attributes) contribute the most to predicting the target attribute. You can learn more about the RFE class3 in the scikit-learn documentation.\n",
        "\n",
        "The example below uses RFE with the logistic regression algorithm to select the top 3 features. The choice of algorithm does not matter too much as long as it is skillful and consistent.\n",
        "\n",
        "You can see that RFE chose the top 3 features as preg, mass and pedi. These are marked True in the support array and marked with a choice 1 in the ranking array. Again, you can manually map the feature indexes to the indexes of attribute names."
      ],
      "metadata": {
        "id": "R0isGqoe4LJj"
      }
    },
    {
      "cell_type": "code",
      "source": [
        "from pandas import read_csv\n",
        "from sklearn.feature_selection import RFE\n",
        "from sklearn.linear_model import LogisticRegression\n",
        "# load data\n",
        "filename = '/content/diabetes 2.csv'\n",
        "dataframe = read_csv(filename)\n",
        "array = dataframe.values\n",
        "X = array[:, 0:8]\n",
        "Y = array[:, 8]\n",
        "\n",
        "# Feature extraction\n",
        "model = LogisticRegression()\n",
        "rfe = RFE(estimator=model, n_features_to_select=5)\n",
        "fit = rfe.fit(X, Y)\n",
        "\n",
        "# Print results\n",
        "print(\"Num Features: %d\" % fit.n_features_)\n",
        "print(\"Selected Features: %s\" % fit.support_)\n",
        "print(\"Feature Ranking: %s\" % fit.ranking_)"
      ],
      "metadata": {
        "colab": {
          "base_uri": "https://localhost:8080/"
        },
        "id": "hFUeO72d4mzv",
        "outputId": "27c07976-905f-4049-adc2-ffe21c911b28"
      },
      "execution_count": 14,
      "outputs": [
        {
          "output_type": "stream",
          "name": "stdout",
          "text": [
            "Num Features: 5\n",
            "Selected Features: [ True  True False False False  True  True  True]\n",
            "Feature Ranking: [1 1 2 3 4 1 1 1]\n"
          ]
        },
        {
          "output_type": "stream",
          "name": "stderr",
          "text": [
            "/usr/local/lib/python3.10/dist-packages/sklearn/linear_model/_logistic.py:460: ConvergenceWarning: lbfgs failed to converge (status=1):\n",
            "STOP: TOTAL NO. of ITERATIONS REACHED LIMIT.\n",
            "\n",
            "Increase the number of iterations (max_iter) or scale the data as shown in:\n",
            "    https://scikit-learn.org/stable/modules/preprocessing.html\n",
            "Please also refer to the documentation for alternative solver options:\n",
            "    https://scikit-learn.org/stable/modules/linear_model.html#logistic-regression\n",
            "  n_iter_i = _check_optimize_result(\n"
          ]
        }
      ]
    },
    {
      "cell_type": "markdown",
      "source": [
        "**3. Principal Component Analysis**"
      ],
      "metadata": {
        "id": "qbW4OfU78D3C"
      }
    },
    {
      "cell_type": "markdown",
      "source": [
        "Principal Component Analysis (or PCA) uses linear algebra to transform the dataset into a compressed form. Generally this is called a data reduction technique.\n",
        "\n",
        " A property of PCA is that you can choose the number of dimensions or principal components in the transformed result.\n",
        "\n",
        " In the example below, we use PCA and select 3 principal components.\n",
        "\n",
        " You can see that the transformed dataset (3 principal components) bare little resemblance to the source data."
      ],
      "metadata": {
        "id": "6avXm1Wm8Gzn"
      }
    },
    {
      "cell_type": "code",
      "source": [
        "from pandas import read_csv\n",
        "from sklearn.decomposition import PCA\n",
        "array = dataframe.values\n",
        "X = array[:,0:8]\n",
        "Y = array[:,8]\n",
        "# feature extraction\n",
        "pca = PCA(n_components=3)\n",
        "fit = pca.fit(X)\n",
        "# summarize components\n",
        "print(fit.components_)"
      ],
      "metadata": {
        "colab": {
          "base_uri": "https://localhost:8080/"
        },
        "id": "dtxpfPFk9J1u",
        "outputId": "171a3b49-9e0c-4005-f6ef-f13f50eaf72c"
      },
      "execution_count": 20,
      "outputs": [
        {
          "output_type": "stream",
          "name": "stdout",
          "text": [
            "[[-2.022e-03  9.781e-02  1.609e-02  6.076e-02  9.931e-01  1.401e-02\n",
            "   5.372e-04 -3.565e-03]\n",
            " [-2.265e-02 -9.722e-01 -1.419e-01  5.786e-02  9.463e-02 -4.697e-02\n",
            "  -8.168e-04 -1.402e-01]\n",
            " [-2.246e-02  1.434e-01 -9.225e-01 -3.070e-01  2.098e-02 -1.324e-01\n",
            "  -6.400e-04 -1.255e-01]]\n"
          ]
        }
      ]
    },
    {
      "cell_type": "markdown",
      "source": [
        "**4. Feature Importance**"
      ],
      "metadata": {
        "id": "n-oRdXgV_kno"
      }
    },
    {
      "cell_type": "markdown",
      "source": [
        "Bagged decision trees like Random Forest and Extra Trees can be used to estimate the importance of features. In the example below we construct a ExtraTreesClassifier classifier for the Pima Indians onset of diabetes dataset.\n",
        "\n",
        "You can see that we are given an importance score for each attribute where the larger the score, the more important the attribute. The scores suggest at the importance of plas, age and mass."
      ],
      "metadata": {
        "id": "9HlmsE8s_mXW"
      }
    },
    {
      "cell_type": "code",
      "source": [
        "from pandas import read_csv\n",
        "from sklearn.ensemble import ExtraTreesClassifier\n",
        "array = dataframe.values\n",
        "X = array[:,0:8]\n",
        "Y = array[:,8]\n",
        "# feature extraction\n",
        "model = ExtraTreesClassifier()\n",
        "model.fit(X, Y)\n",
        "print(model.feature_importances_)"
      ],
      "metadata": {
        "colab": {
          "base_uri": "https://localhost:8080/"
        },
        "id": "ozU345qD_qhs",
        "outputId": "972f9a89-d48d-49dc-c672-03c0153f4cca"
      },
      "execution_count": 22,
      "outputs": [
        {
          "output_type": "stream",
          "name": "stdout",
          "text": [
            "[0.107 0.238 0.098 0.079 0.075 0.14  0.118 0.145]\n"
          ]
        }
      ]
    }
  ]
}
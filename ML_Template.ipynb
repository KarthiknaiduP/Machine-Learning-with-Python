{
  "nbformat": 4,
  "nbformat_minor": 0,
  "metadata": {
    "colab": {
      "provenance": []
    },
    "kernelspec": {
      "name": "python3",
      "display_name": "Python 3"
    },
    "language_info": {
      "name": "python"
    }
  },
  "cells": [
    {
      "cell_type": "code",
      "execution_count": null,
      "metadata": {
        "id": "vREncglhvYO-"
      },
      "outputs": [],
      "source": []
    },
    {
      "cell_type": "markdown",
      "source": [
        "# Python Project Template\n",
        "\n",
        "#1. Prepare Problem\n",
        "a) Load libraries\n",
        "\n",
        "\n",
        "b) Load dataset\n",
        "\n",
        "# 2. Summarize Data\n",
        " a) Descriptive statistics\n",
        "\n",
        "\n",
        " b) Data visualizations\n",
        "\n",
        "# 3. Prepare Data\n",
        "a) Data Cleaning\n",
        "\n",
        " b) Feature Selection\n",
        "\n",
        " c) Data Transforms\n",
        "\n",
        "# 4. Evaluate Algorithms\n",
        " a) Split-out validation dataset\n",
        "\n",
        " b) Test options and evaluation metric\n",
        "\n",
        " c) Spot Check Algorithms\n",
        "\n",
        " d) Compare Algorithms\n",
        "# 5. Improve Accuracy\n",
        " a) Algorithm Tuning\n",
        "\n",
        " b) Ensembles\n",
        "# 6. Finalize Model\n",
        " a) Predictions on validation dataset\n",
        "\n",
        " b) Create standalone model on entire training dataset\n",
        "\n",
        " c) Save model for later use"
      ],
      "metadata": {
        "id": "Ol3ecmsDvjAH"
      }
    }
  ]
}